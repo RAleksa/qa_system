{
 "cells": [
  {
   "cell_type": "markdown",
   "metadata": {},
   "source": [
    "## Вопросно-ответная система"
   ]
  },
  {
   "cell_type": "markdown",
   "metadata": {},
   "source": [
    "### Сбор данных"
   ]
  },
  {
   "cell_type": "markdown",
   "metadata": {},
   "source": [
    "Для выполнения данного проекта были собраны статьи из энциклопедии http://www.krugosvet.ru/, посвященные странам мира. Всего было собрано 15 статей по 15 странам. Данные статьи отличаются большим размером (до 40 страниц) и охватывают все сферы от географии до экономики и политики."
   ]
  },
  {
   "cell_type": "code",
   "execution_count": 1,
   "metadata": {
    "collapsed": true
   },
   "outputs": [],
   "source": [
    "import requests\n",
    "from bs4 import BeautifulSoup\n",
    "import re"
   ]
  },
  {
   "cell_type": "markdown",
   "metadata": {},
   "source": [
    "Написан веб-краулер, который автоматически собирает абзацы статей по страницам сайта. Реализован краулер с помощью библиотеки request, парсинг страниц осуществлен с помощью BeautifulSoup. Каждый обзац обрабатывается: убираются теги и спецсимволы."
   ]
  },
  {
   "cell_type": "code",
   "execution_count": 2,
   "metadata": {
    "collapsed": true
   },
   "outputs": [],
   "source": [
    "def clean(string):\n",
    "    string = re.sub('<[^>]*>', '', string)\n",
    "    string = re.sub('&(.*);', '', string)\n",
    "    return string\n",
    "    \n",
    "def get_county_info(link):\n",
    "    data = []\n",
    "    for i in range(50):\n",
    "        text = requests.get(link + '.html?page=0,' + str(i)).text\n",
    "        paragraphs = BeautifulSoup(text, 'lxml').find_all('p')[1:]\n",
    "        if len(paragraphs) > 0:\n",
    "            paragraphs = [clean(p.text) for p in paragraphs]\n",
    "            paragraphs = [p for p in paragraphs if len(p)]\n",
    "            data += paragraphs\n",
    "        else:\n",
    "            return data\n",
    "    return data"
   ]
  },
  {
   "cell_type": "markdown",
   "metadata": {},
   "source": [
    "Собираем данные по странам:"
   ]
  },
  {
   "cell_type": "code",
   "execution_count": 3,
   "metadata": {},
   "outputs": [
    {
     "name": "stdout",
     "output_type": "stream",
     "text": [
      "Австралия данные собраны. Количество абзацев 442\n",
      "Австрия данные собраны. Количество абзацев 293\n",
      "Бельгия данные собраны. Количество абзацев 196\n",
      "Бразилия данные собраны. Количество абзацев 318\n",
      "США данные собраны. Количество абзацев 653\n",
      "Германия данные собраны. Количество абзацев 452\n",
      "Китай данные собраны. Количество абзацев 453\n",
      "Украина данные собраны. Количество абзацев 173\n",
      "Франция данные собраны. Количество абзацев 407\n",
      "Индия данные собраны. Количество абзацев 366\n",
      "Италия данные собраны. Количество абзацев 447\n",
      "Испания данные собраны. Количество абзацев 229\n",
      "Канада данные собраны. Количество абзацев 214\n",
      "Россия данные собраны. Количество абзацев 693\n",
      "Великобритания данные собраны. Количество абзацев 374\n"
     ]
    }
   ],
   "source": [
    "links = ['AVSTRALIYA', 'AVSTRIYA', 'BELGIYA', 'BRAZILIYA', 'SOEDINENNIE_SHTATI_AMERIKI',\n",
    "         'GERMANIYA', 'KITA', 'UKRAINA', 'FRANTSIYA', 'INDIYA', 'ITALIYA', 'ISPANIYA', 'KANADA']\n",
    "links = ['http://www.krugosvet.ru/enc/strany_mira/'+ l for l in links]\n",
    "links += [\"http://www.krugosvet.ru/enc/Earth_sciences/geografiya/ROSSIYA_ROSSISKAYA_FEDERATSIYA_RF\"]\n",
    "links += [\"http://www.krugosvet.ru/enc/Earth_sciences/geografiya/SOEDINENNOE_KOROLEVSTVO_VELIKOBRITANII_I_SEVERNO_IRLANDII\"]\n",
    "ru_countries = ['Австралия', 'Австрия', 'Бельгия', 'Бразилия', 'США', 'Германия', 'Китай', 'Украина', \n",
    "                'Франция', 'Индия', 'Италия', 'Испания', 'Канада', 'Россия', 'Великобритания']\n",
    "\n",
    "all_data = []\n",
    "for i in range(15):\n",
    "    newdata = get_county_info(links[i])\n",
    "    all_data += newdata\n",
    "    print(ru_countries[i], 'данные собраны. Количество абзацев', len(newdata))"
   ]
  },
  {
   "cell_type": "markdown",
   "metadata": {},
   "source": [
    "Получаем итоговый текст, соединяя абзацы в один."
   ]
  },
  {
   "cell_type": "code",
   "execution_count": 4,
   "metadata": {
    "collapsed": true
   },
   "outputs": [],
   "source": [
    "final_text = ' '.join(all_data)"
   ]
  },
  {
   "cell_type": "markdown",
   "metadata": {},
   "source": [
    "Данные можно взять в приложенном файле"
   ]
  },
  {
   "cell_type": "code",
   "execution_count": null,
   "metadata": {
    "collapsed": true
   },
   "outputs": [],
   "source": [
    "final_text = open('data.txt').read()"
   ]
  },
  {
   "cell_type": "markdown",
   "metadata": {},
   "source": [
    "### Поиск предложений с помощью модели word2vec"
   ]
  },
  {
   "cell_type": "markdown",
   "metadata": {},
   "source": [
    "Прежде чем выделять ответ на вопрос, необходимо определить множество релевантных фрагментов. Мы хотим находить самое похожее на вопрос предложение. Можно было бы просто найти предложение с наибольшим пересечением по словам с вопросом. Но так как вопрос может быть перефразирован, воспользуемся синонимами из предобученной модели word2vec (НКРЯ и Википедия за ноябрь 2016).\n",
    "\n",
    "Создан класс QA_word2vec, в котором реализованы методы для предобработки текста и последующего поиска предложений. Модель поиска состоит из следующих этапов:\n",
    "\n",
    "- Для вопроса производится стемминг с помощью библиотеки pymystem3. Каждое слово приводится к начальной форме и добавляется постфикс части речи.\n",
    "- Для каждого слова из вопроса, которое не является стоп-словом, ищется топ-10 синонимов из словаря с помощью функции  wv.most_similar(). Она также возвращает число, обозначающее похожесть двух данных слов в модели word2vec.\n",
    "- Для каждого предложения из базы данных вычисляется его score: для каждого слова из вопроса ищем в предложении либо само слово, либо наиболее похожее на него из ранее полученного топ-10, мера схожести найденного слова (1, если найдено само слово) добавляется к score предложения. Итоговая сумма делится на число слов в вопросе, получаем рейтинг предложения в процентах.\n"
   ]
  },
  {
   "cell_type": "code",
   "execution_count": 5,
   "metadata": {
    "collapsed": true
   },
   "outputs": [],
   "source": [
    "from nltk.tokenize import sent_tokenize\n",
    "from pymystem3 import Mystem\n",
    "from gensim.models.keyedvectors import KeyedVectors\n",
    "from stop_words import get_stop_words\n",
    "import numpy as np"
   ]
  },
  {
   "cell_type": "markdown",
   "metadata": {},
   "source": [
    "Класс с необходимыми методами"
   ]
  },
  {
   "cell_type": "code",
   "execution_count": 6,
   "metadata": {
    "collapsed": true
   },
   "outputs": [],
   "source": [
    "class QA_word2vec:\n",
    "    \n",
    "    def __init__(self, text):\n",
    "        self.text = text\n",
    "        self.w2v_model = KeyedVectors.load_word2vec_format('ruwikiruscorpora_0_300_20.bin.gz', binary=True,\n",
    "                                                           limit=500000)\n",
    "        self.mystem2uni = {'A': 'ADJ', 'ADV': 'ADV', 'ADVPRO': 'ADV', 'ANUM': 'ADJ', 'APRO': 'DET', 'COM': 'ADJ',\n",
    "                           'CONJ': 'SCONJ', 'INTJ': 'INTJ', 'NONLEX': 'X', 'NUM': 'NUM', 'PART': 'PART',\n",
    "                           'PR': 'ADP', 'S': 'NOUN', 'SPRO': 'PRON', 'UNKN': 'X', 'V': 'VERB'}\n",
    "        self.ms = Mystem()\n",
    "        # Text preprocessing: sentence tokenization and normalization\n",
    "        self.sents = np.array(sent_tokenize(self.text))\n",
    "        self.norm_sents = []\n",
    "        for sent in self.sents:\n",
    "            self.norm_sents.append(self.normalize_sent(sent))\n",
    "        self.norm_sents = np.array(self.norm_sents)\n",
    "    \n",
    "    def normalize_sent(self, sent):\n",
    "        # Sentence normalization\n",
    "        analysis = self.ms.analyze(sent)\n",
    "        norm_sent = []\n",
    "        for word in analysis:\n",
    "            if 'analysis' in word and len(word['analysis']):\n",
    "                word_norm = word['analysis'][0]['lex']\n",
    "                form = self.mystem2uni[word['analysis'][0]['gr'].split('=')[0].split(',')[0]]\n",
    "                norm_sent.append(word_norm + '_' + form)\n",
    "        return norm_sent\n",
    "    \n",
    "    def score_sentence(self, sent, sim_words):\n",
    "        # for each word in the question we find the most similar word \n",
    "        # in a sentence and add its score to the total sentence score\n",
    "        sent_score = 0\n",
    "        for words in sim_words:\n",
    "            best_score = 0\n",
    "            for word in words:\n",
    "                if word[0] in sent:\n",
    "                    best_score = max(best_score, word[1])\n",
    "            sent_score += best_score\n",
    "        return sent_score\n",
    "                    \n",
    "    def get_relevant_sentences(self, question, n=10):\n",
    "        # Question normalization and stop-words filtering\n",
    "        norm_question = [word for word in self.normalize_sent(question) \\\n",
    "                         if word.split('_')[0] not in get_stop_words('russian')]\n",
    "        # For each word find 10 similar words\n",
    "        sim_words = []\n",
    "        for word in norm_question:\n",
    "            try:\n",
    "                # each element of sim_words is a list of tupples (word, score)\n",
    "                sim_words.append([(word, 1)] + self.w2v_model.wv.most_similar(word))\n",
    "            except:\n",
    "                pass\n",
    "        # Calculate scores for each word in every sentence\n",
    "        sent_scores = np.zeros(self.sents.shape[0])\n",
    "        for i, sent in enumerate(self.norm_sents):\n",
    "            sent_scores[i] = self.score_sentence(sent, sim_words)\n",
    "        # Return n best sentences and their scores\n",
    "        best_sort = np.argsort(-sent_scores)[:n]\n",
    "        return self.sents[best_sort], sent_scores[best_sort] / len(norm_question)"
   ]
  },
  {
   "cell_type": "markdown",
   "metadata": {},
   "source": [
    "Инициализируем объект класса, сразу происходит нормализация всех предложений в базе. Это занимает около минуты."
   ]
  },
  {
   "cell_type": "code",
   "execution_count": 7,
   "metadata": {
    "collapsed": true
   },
   "outputs": [],
   "source": [
    "searcher = QA_word2vec(final_text)"
   ]
  },
  {
   "cell_type": "markdown",
   "metadata": {},
   "source": [
    "Итоговое число предложений в базе:"
   ]
  },
  {
   "cell_type": "code",
   "execution_count": 8,
   "metadata": {},
   "outputs": [
    {
     "data": {
      "text/plain": [
       "28019"
      ]
     },
     "execution_count": 8,
     "metadata": {},
     "output_type": "execute_result"
    }
   ],
   "source": [
    "len(searcher.sents)"
   ]
  },
  {
   "cell_type": "markdown",
   "metadata": {},
   "source": [
    "Протестируем наш поиск"
   ]
  },
  {
   "cell_type": "code",
   "execution_count": 9,
   "metadata": {
    "collapsed": true
   },
   "outputs": [],
   "source": [
    "def print_search(question, n):\n",
    "    sents, scores = searcher.get_relevant_sentences(question, n=n)\n",
    "    print('\\033[1mQuestion\\033[0m', question)\n",
    "    for i in range(n):\n",
    "        print('\\033[1mTop' + str(i+1) + '\\033[0m', sents[i], scores[i])"
   ]
  },
  {
   "cell_type": "markdown",
   "metadata": {},
   "source": [
    "Для вопросов, части которых в прямом виде содержатся в тексте, мы легко находим ответы."
   ]
  },
  {
   "cell_type": "code",
   "execution_count": 10,
   "metadata": {},
   "outputs": [
    {
     "name": "stdout",
     "output_type": "stream",
     "text": [
      "\u001b[1mQuestion\u001b[0m Кто такой протопоп Аввакум?\n",
      "\u001b[1mTop1\u001b[0m Протопоп Аввакум, духовный отец старообрядцев, противников изменения церковных обрядов и богослужебных книг в соответствии с новейшими греческими образцами, призывал оказывать сопротивление всем нововведениям пришедшего к власти патриарха Никона, определяя его реформы как отход от православия. 1.0\n"
     ]
    }
   ],
   "source": [
    "print_search('Кто такой протопоп Аввакум?', 1)"
   ]
  },
  {
   "cell_type": "code",
   "execution_count": 11,
   "metadata": {},
   "outputs": [
    {
     "name": "stdout",
     "output_type": "stream",
     "text": [
      "\u001b[1mQuestion\u001b[0m Что в основном издает издательство Мельбурнского университета?\n",
      "\u001b[1mTop1\u001b[0m Издательство Мельбурнского университета выпускает преимущественно научные работы, а издательство «Ангус и Робертсон» в Сиднее – многие важные произведения, созданные в Австралии. 0.897878932953\n"
     ]
    }
   ],
   "source": [
    "print_search('Что в основном издает издательство Мельбурнского университета?', 1)"
   ]
  },
  {
   "cell_type": "code",
   "execution_count": 12,
   "metadata": {},
   "outputs": [
    {
     "name": "stdout",
     "output_type": "stream",
     "text": [
      "\u001b[1mQuestion\u001b[0m Какой минимально допустимый возраст для голосования в США?\n",
      "\u001b[1mTop1\u001b[0m 26-я поправка к Конституции, вступившая в силу в 1971, установила минимальный возраст избирателя – 18 лет для всех выборов на уровне штата и государства в целом. 0.691259896755\n"
     ]
    }
   ],
   "source": [
    "print_search('Какой минимально допустимый возраст для голосования в США?', 1)"
   ]
  },
  {
   "cell_type": "markdown",
   "metadata": {},
   "source": [
    "Иногда правильное предложение находится не на первой позиции:"
   ]
  },
  {
   "cell_type": "code",
   "execution_count": 13,
   "metadata": {},
   "outputs": [
    {
     "name": "stdout",
     "output_type": "stream",
     "text": [
      "\u001b[1mQuestion\u001b[0m Какое место занимает Россия по добыче газа?\n",
      "\u001b[1mTop1\u001b[0m Топливно-энергетический комплекс (ТЭК) РФ объединяет также отрасли, осуществляющие добычу, транспортировку, обработку первичных энергетических ресурсов (нефть, газ, уголь), занимая 2-е место в мире после США по производству энергоресурсов и 3-е место в мире после США и Китая по внутреннему употреблению. 0.899263077974\n",
      "\u001b[1mTop2\u001b[0m РФ занимает первое место в мире по запасам газа (32% мировых запасов, 30% мировой добычи); второе место по уровню добычи нефти (348,8 млн. 0.899263077974\n"
     ]
    }
   ],
   "source": [
    "print_search('Какое место занимает Россия по добыче газа?', 2)"
   ]
  },
  {
   "cell_type": "markdown",
   "metadata": {},
   "source": [
    "Пример плохой работы: Брюсселя нет в топ-5."
   ]
  },
  {
   "cell_type": "code",
   "execution_count": 14,
   "metadata": {},
   "outputs": [
    {
     "name": "stdout",
     "output_type": "stream",
     "text": [
      "\u001b[1mQuestion\u001b[0m Какой город столица Бельгии?\n",
      "\u001b[1mTop1\u001b[0m В 1996 в Бельгии насчитывалось 13 городов с населением более 65 тыс. 0.890823185444\n",
      "\u001b[1mTop2\u001b[0m ), третий по численности населения город Германии и столица Баварии. 0.867529948552\n",
      "\u001b[1mTop3\u001b[0m – портового города, второго в стране по числу жителей после Берлина; Бремена – еще одного портового города; Ганновера, столицы земли Нижняя Саксония; Нюрнберга, оставившего яркий след в истории Германии и сохранившего многочисленные памятники Средневековья; а также конурбация Саарланд. 0.867529948552\n",
      "\u001b[1mTop4\u001b[0m В послевоенный период, с потерей Берлина как общенациональной столицы, ее функции фактически оказались распределены между несколькими городами Западной Германии, что стало одной из самых характерных черт развития городской сети ФРГ. 0.867529948552\n",
      "\u001b[1mTop5\u001b[0m В город стекались люди искусства и торговцы со всей Австрии, из Чехии и Венгрии, из Испании и Нидерландов, из Италии и Южной Германии. 0.812884032726\n"
     ]
    }
   ],
   "source": [
    "print_search('Какой город столица Бельгии?', 5)"
   ]
  },
  {
   "cell_type": "markdown",
   "metadata": {},
   "source": [
    "Модель хорошо \"обходит\" синонимы. Пример:"
   ]
  },
  {
   "cell_type": "code",
   "execution_count": 15,
   "metadata": {},
   "outputs": [
    {
     "name": "stdout",
     "output_type": "stream",
     "text": [
      "\u001b[1mQuestion\u001b[0m Кто доминирует в населении Бразилии?\n",
      "\u001b[1mTop1\u001b[0m В составе населения Бразилии преобладает молодежь, и этим объясняются высокие темпы рождаемости. 0.914728124936\n"
     ]
    }
   ],
   "source": [
    "print_search('Кто доминирует в населении Бразилии?', 1)"
   ]
  },
  {
   "cell_type": "markdown",
   "metadata": {},
   "source": [
    "Слово \"доминирует\" было успешно заменено на \"преобладает\", ведь оно есть в списке синонимов:"
   ]
  },
  {
   "cell_type": "code",
   "execution_count": 16,
   "metadata": {},
   "outputs": [
    {
     "data": {
      "text/plain": [
       "[('преобладать_VERB', 0.7441843748092651),\n",
       " ('доминирующий_ADJ', 0.7359710931777954),\n",
       " ('превалировать_VERB', 0.6631802916526794),\n",
       " ('доминирование_NOUN', 0.6425091624259949),\n",
       " ('главенствовать_VERB', 0.5751291513442993),\n",
       " ('господствовать_VERB', 0.566472053527832),\n",
       " ('вытеснять_VERB', 0.5470854640007019),\n",
       " ('сформировываться_VERB', 0.5379319190979004),\n",
       " ('лидировать_VERB', 0.5320693850517273),\n",
       " ('ассоциироваться_VERB', 0.5176834464073181)]"
      ]
     },
     "execution_count": 16,
     "metadata": {},
     "output_type": "execute_result"
    }
   ],
   "source": [
    "searcher.w2v_model.wv.most_similar('доминировать_VERB')"
   ]
  },
  {
   "cell_type": "markdown",
   "metadata": {},
   "source": [
    "### Поиск сущностей с помощью texterra"
   ]
  },
  {
   "cell_type": "markdown",
   "metadata": {},
   "source": [
    "После того, как был реализован поиск релевантных предложений, была построена модель поиска сущностей в предложениях. Для этого использовалась готовая реализация из библиотеки texterra, которая дает доступ к API одноименного веб-приложения."
   ]
  },
  {
   "cell_type": "code",
   "execution_count": 17,
   "metadata": {
    "collapsed": true
   },
   "outputs": [],
   "source": [
    "import texterra\n",
    "t = texterra.API('API-KEY')"
   ]
  },
  {
   "cell_type": "markdown",
   "metadata": {},
   "source": [
    "Протестируем работу модуля. Как видим, были успешно найдены сущности \"человек\" и \"город\". Хотя в документации библиотеки и было заявлено, что сущности типа \"дата и время\" тоже поддерживаются, нам не удалось их найти (см. пример)"
   ]
  },
  {
   "cell_type": "code",
   "execution_count": 18,
   "metadata": {},
   "outputs": [
    {
     "name": "stdout",
     "output_type": "stream",
     "text": [
      "[(0, 20, 'Иванов Иван Иванович', 'PERSON'), (31, 37, 'Москву', 'GPE_CITY')]\n"
     ]
    }
   ],
   "source": [
    "for i in t.named_entities('Иванов Иван Иванович приехал в Москву 15 ноября 2017 года в 2:00'):\n",
    "    print(i)"
   ]
  },
  {
   "cell_type": "markdown",
   "metadata": {},
   "source": [
    "Однако, хорошо определяются сущности географических объектов: страны, регионы, реки и т.д"
   ]
  },
  {
   "cell_type": "code",
   "execution_count": 19,
   "metadata": {},
   "outputs": [
    {
     "name": "stdout",
     "output_type": "stream",
     "text": [
      "[(19, 27, 'Германии', 'GPE_COUNTRY'), (30, 34, 'Рейн', 'LOCATION_RIVER'), (88, 92, 'Альп', 'LOCATION_OTHER')]\n"
     ]
    }
   ],
   "source": [
    "for i in t.named_entities('Самая большая река Германии – Рейн, питающийся от огромного веера притоков в предгорьях Альп.'):\n",
    "    print(i)"
   ]
  },
  {
   "cell_type": "markdown",
   "metadata": {},
   "source": [
    "Напишем функцию, которая возвращает словарь с найденными сущностями заданных типов для нескольких предложений с их рейтингами из поиска. Таким образом, из предложений-кандидатов извлекаются сущности, которые могут являться ответом на вопрос. Для каждого слова-кандидата подсчитывается его рейтинг на основе рейтинга предложения, в котором это слово содержится. Если слово встречается несколько раз, то рейтинги суммируются."
   ]
  },
  {
   "cell_type": "markdown",
   "metadata": {},
   "source": [
    "Затем было решено использовать квадрат рейтинга предложения, чтобы сильнее наказывать за менее релевантные предложения."
   ]
  },
  {
   "cell_type": "code",
   "execution_count": 20,
   "metadata": {
    "collapsed": true
   },
   "outputs": [],
   "source": [
    "ms = Mystem()\n",
    "\n",
    "def entities_extraction(sents, scores, entfilt):\n",
    "    exctracted = t.named_entities(sents)\n",
    "    ents_dict = {}\n",
    "    for i, res in enumerate(exctracted):\n",
    "        for entity in res:\n",
    "            if entity[-1] in entfilt:\n",
    "                word = ' '.join([w['analysis'][0]['lex'] for w in ms.analyze(entity[2])\\\n",
    "                                if 'analysis' in w and len(w['analysis'])])\n",
    "                weight = scores[i] ** 2\n",
    "                if word in ents_dict.keys():\n",
    "                    ents_dict[word] += weight\n",
    "                else:\n",
    "                    ents_dict[word] = weight\n",
    "    return ents_dict"
   ]
  },
  {
   "cell_type": "markdown",
   "metadata": {},
   "source": [
    "Пример запроса. Топ-5 предложений"
   ]
  },
  {
   "cell_type": "code",
   "execution_count": 22,
   "metadata": {},
   "outputs": [
    {
     "name": "stdout",
     "output_type": "stream",
     "text": [
      "\u001b[1mQuestion\u001b[0m В какой стране город Сидней?\n",
      "\u001b[1mTop1\u001b[0m Австралия обладает большей частью мировых запасов рутила, циркона и тория, содержащихся в песках вдоль восточного побережья страны между островом Страдброк (Квинсленд) и городом Байрон-Бей (Новый Южный Уэльс) и на побережье Западной Австралии в Кейпеле. 0.88725656271\n",
      "\u001b[1mTop2\u001b[0m Столица страны Канберра была спланирована как образцовый город Уолтером Берли Гриффином в 1911. 0.877177218596\n",
      "\u001b[1mTop3\u001b[0m км), где находится город Канберра – столица страны и резиденция правительства. 0.877177218596\n",
      "\u001b[1mTop4\u001b[0m Институты законодательной, судебной и исполнительной власти федерального правительства Союза сосредоточены в столице страны Канберре. 0.76800040404\n",
      "\u001b[1mTop5\u001b[0m В настоящее время золото добывают во многих районах страны, но преимущественно в Западной Австралии. 0.737295528253\n"
     ]
    }
   ],
   "source": [
    "q = 'В какой стране город Сидней?'\n",
    "print_search(q, 5)"
   ]
  },
  {
   "cell_type": "markdown",
   "metadata": {},
   "source": [
    "Извлеченные ответы с весами:"
   ]
  },
  {
   "cell_type": "code",
   "execution_count": 23,
   "metadata": {},
   "outputs": [
    {
     "data": {
      "text/plain": [
       "{'австралия': 0.78722420807162408,\n",
       " 'западный австралия': 0.54360469598175165,\n",
       " 'страна': 1.3130445688058128}"
      ]
     },
     "execution_count": 23,
     "metadata": {},
     "output_type": "execute_result"
    }
   ],
   "source": [
    "entities_extraction(*searcher.get_relevant_sentences(q, n=5), ['GPE_COUNTRY'])"
   ]
  },
  {
   "cell_type": "markdown",
   "metadata": {},
   "source": [
    "Видно, что слово \"страна\" имеет лучший рейтинг, но оно явно не подходит. Очевидно, нужно убирать из рассмотрения слова, содержащиеся в запросе."
   ]
  },
  {
   "cell_type": "markdown",
   "metadata": {},
   "source": [
    "Функция ниже обрабатывает вопрос, производит для него поиск и извлекает сущности заданного типа."
   ]
  },
  {
   "cell_type": "code",
   "execution_count": 24,
   "metadata": {
    "collapsed": true
   },
   "outputs": [],
   "source": [
    "def extract_answer(q, entfilt, n):\n",
    "    sents, scores = searcher.get_relevant_sentences(q, n=n)\n",
    "    if not entfilt:\n",
    "        return None, sents[0]\n",
    "    candidates = entities_extraction(sents, scores, entfilt).items()\n",
    "    if not len(candidates):\n",
    "        return None, sents[0]\n",
    "    words_in_q = [w['analysis'][0]['lex'] for w in ms.analyze(q) if 'analysis' in w]\n",
    "    candidates = [c for c in candidates if c[0] not in words_in_q]\n",
    "    candidates.sort(key=lambda tup: tup[1], reverse=True)\n",
    "    return candidates[0][0], sents[0]"
   ]
  },
  {
   "cell_type": "markdown",
   "metadata": {},
   "source": [
    "Ответ для предыдущего запроса:"
   ]
  },
  {
   "cell_type": "code",
   "execution_count": 25,
   "metadata": {},
   "outputs": [
    {
     "data": {
      "text/plain": [
       "'австралия'"
      ]
     },
     "execution_count": 25,
     "metadata": {},
     "output_type": "execute_result"
    }
   ],
   "source": [
    "extract_answer(q, ['GPE_COUNTRY'], 5)[0]"
   ]
  },
  {
   "cell_type": "markdown",
   "metadata": {},
   "source": [
    "Продолжаем тестировать:"
   ]
  },
  {
   "cell_type": "code",
   "execution_count": 26,
   "metadata": {},
   "outputs": [
    {
     "data": {
      "text/plain": [
       "'россия'"
      ]
     },
     "execution_count": 26,
     "metadata": {},
     "output_type": "execute_result"
    }
   ],
   "source": [
    "extract_answer('В какой стране город Москва?', ['GPE_COUNTRY'], 5)[0]"
   ]
  },
  {
   "cell_type": "markdown",
   "metadata": {},
   "source": [
    "К сожалению, ошибки все равно возникают"
   ]
  },
  {
   "cell_type": "code",
   "execution_count": 27,
   "metadata": {},
   "outputs": [
    {
     "data": {
      "text/plain": [
       "'украина'"
      ]
     },
     "execution_count": 27,
     "metadata": {},
     "output_type": "execute_result"
    }
   ],
   "source": [
    "extract_answer('В какой стране Москва?', ['GPE_COUNTRY'], 5)[0]"
   ]
  },
  {
   "cell_type": "markdown",
   "metadata": {},
   "source": [
    "### Шаблоны типов вопросов и окончательный алгоритм"
   ]
  },
  {
   "cell_type": "markdown",
   "metadata": {},
   "source": [
    "Теперь необходимо научиться определять тип вопросов. Использовались шаблоны, представленные в таблице ниже. Проверялось вхождение шаблона в строку вопроса:"
   ]
  },
  {
   "cell_type": "code",
   "execution_count": 28,
   "metadata": {},
   "outputs": [
    {
     "data": {
      "text/html": [
       "<div>\n",
       "<table border=\"1\" class=\"dataframe\">\n",
       "  <thead>\n",
       "    <tr style=\"text-align: right;\">\n",
       "      <th></th>\n",
       "      <th>entities</th>\n",
       "    </tr>\n",
       "    <tr>\n",
       "      <th>question</th>\n",
       "      <th></th>\n",
       "    </tr>\n",
       "  </thead>\n",
       "  <tbody>\n",
       "    <tr>\n",
       "      <th>где</th>\n",
       "      <td>[GPE_COUNTRY, GPE_CITY, GPE_STATE_PROVINCE, GPE_OTHER, LOCATION_REGION, LOCATION_CONTINENT, LOCATION_OTHER]</td>\n",
       "    </tr>\n",
       "    <tr>\n",
       "      <th>кто</th>\n",
       "      <td>[PERSON]</td>\n",
       "    </tr>\n",
       "    <tr>\n",
       "      <th>какой страна</th>\n",
       "      <td>[GPE_COUNTRY]</td>\n",
       "    </tr>\n",
       "    <tr>\n",
       "      <th>какой город</th>\n",
       "      <td>[GPE_CITY]</td>\n",
       "    </tr>\n",
       "    <tr>\n",
       "      <th>какой река</th>\n",
       "      <td>[LOCATION_RIVER]</td>\n",
       "    </tr>\n",
       "    <tr>\n",
       "      <th>какой организация</th>\n",
       "      <td>[FACILITY, ORGANIZATION_CORPORATION, ORGANIZATION_EDUCATIONAL, ORGANIZATION_POLITICAL]</td>\n",
       "    </tr>\n",
       "    <tr>\n",
       "      <th>какой компания</th>\n",
       "      <td>[FACILITY, ORGANIZATION_CORPORATION, ORGANIZATION_EDUCATIONAL, ORGANIZATION_POLITICAL]</td>\n",
       "    </tr>\n",
       "    <tr>\n",
       "      <th>какой национальность</th>\n",
       "      <td>[NORP_NATIONALITY, LANGUAGE]</td>\n",
       "    </tr>\n",
       "    <tr>\n",
       "      <th>какой религия</th>\n",
       "      <td>[NORP_RELIGION]</td>\n",
       "    </tr>\n",
       "  </tbody>\n",
       "</table>\n",
       "</div>"
      ],
      "text/plain": [
       "                                                                                                                         entities\n",
       "question                                                                                                                         \n",
       "где                   [GPE_COUNTRY, GPE_CITY, GPE_STATE_PROVINCE, GPE_OTHER, LOCATION_REGION, LOCATION_CONTINENT, LOCATION_OTHER]\n",
       "кто                                                                                                                      [PERSON]\n",
       "какой страна                                                                                                        [GPE_COUNTRY]\n",
       "какой город                                                                                                            [GPE_CITY]\n",
       "какой река                                                                                                       [LOCATION_RIVER]\n",
       "какой организация                          [FACILITY, ORGANIZATION_CORPORATION, ORGANIZATION_EDUCATIONAL, ORGANIZATION_POLITICAL]\n",
       "какой компания                             [FACILITY, ORGANIZATION_CORPORATION, ORGANIZATION_EDUCATIONAL, ORGANIZATION_POLITICAL]\n",
       "какой национальность                                                                                 [NORP_NATIONALITY, LANGUAGE]\n",
       "какой религия                                                                                                     [NORP_RELIGION]"
      ]
     },
     "execution_count": 28,
     "metadata": {},
     "output_type": "execute_result"
    }
   ],
   "source": [
    "parser_table = [{'question': 'где', 'entities': ['GPE_COUNTRY', 'GPE_CITY', 'GPE_STATE_PROVINCE', 'GPE_OTHER', 'LOCATION_REGION', 'LOCATION_CONTINENT', 'LOCATION_OTHER']},{'question': 'кто', 'entities': ['PERSON']},{'question': 'какой страна', 'entities': ['GPE_COUNTRY']},{'question': 'какой город', 'entities': ['GPE_CITY']},{'question': 'какой река', 'entities': ['LOCATION_RIVER']},{'question': 'какой организация', 'entities': ['FACILITY', 'ORGANIZATION_CORPORATION', 'ORGANIZATION_EDUCATIONAL', 'ORGANIZATION_POLITICAL']},{'question': 'какой компания', 'entities': ['FACILITY', 'ORGANIZATION_CORPORATION', 'ORGANIZATION_EDUCATIONAL', 'ORGANIZATION_POLITICAL']},{'question': 'какой национальность', 'entities': ['NORP_NATIONALITY', 'LANGUAGE']},{'question': 'какой религия', 'entities': ['NORP_RELIGION']}]\n",
    "\n",
    "import pandas as pd\n",
    "pd.set_option('max_colwidth',1000)\n",
    "parser_table = pd.DataFrame.from_records(parser_table, index='question')\n",
    "parser_table"
   ]
  },
  {
   "cell_type": "markdown",
   "metadata": {},
   "source": [
    "Парсер для вопросов:"
   ]
  },
  {
   "cell_type": "code",
   "execution_count": 29,
   "metadata": {
    "collapsed": true
   },
   "outputs": [],
   "source": [
    "def get_q_type(q):\n",
    "    parsed_q = ' '.join([w['analysis'][0]['lex'] for w in ms.analyze(q) \\\n",
    "                         if 'analysis' in w and len(w['analysis'])])\n",
    "    for i in parser_table.index:\n",
    "        if i in parsed_q:\n",
    "            return parser_table.loc[i].entities\n",
    "    return None"
   ]
  },
  {
   "cell_type": "markdown",
   "metadata": {},
   "source": [
    "Пример классификации:"
   ]
  },
  {
   "cell_type": "code",
   "execution_count": 30,
   "metadata": {},
   "outputs": [
    {
     "data": {
      "text/plain": [
       "['GPE_COUNTRY',\n",
       " 'GPE_CITY',\n",
       " 'GPE_STATE_PROVINCE',\n",
       " 'GPE_OTHER',\n",
       " 'LOCATION_REGION',\n",
       " 'LOCATION_CONTINENT',\n",
       " 'LOCATION_OTHER']"
      ]
     },
     "execution_count": 30,
     "metadata": {},
     "output_type": "execute_result"
    }
   ],
   "source": [
    "get_q_type('Где протекает река Днепр?')"
   ]
  },
  {
   "cell_type": "markdown",
   "metadata": {},
   "source": [
    "В результате система возвращает ответ (precise), если вопрос известного типа. В любом случае мы также возвращаем самое релевантное предложение из поиска. По умолчанию ответ ищется в первых пяти предложениях."
   ]
  },
  {
   "cell_type": "code",
   "execution_count": 31,
   "metadata": {
    "collapsed": true
   },
   "outputs": [],
   "source": [
    "def qa(q, n=5):\n",
    "    entfilt = get_q_type(q)\n",
    "    answer, top1 = extract_answer(q, entfilt, n)\n",
    "    print('\\033[1mQuestion\\033[0m', q)\n",
    "    print('\\033[1mPrecise\\033[0m', answer)\n",
    "    print('\\033[1mTop1\\033[0m', top1)"
   ]
  },
  {
   "cell_type": "markdown",
   "metadata": {},
   "source": [
    "### Примеры работы"
   ]
  },
  {
   "cell_type": "markdown",
   "metadata": {},
   "source": [
    "Приводим примеры успешной работы модели на каждый тип вопроса."
   ]
  },
  {
   "cell_type": "code",
   "execution_count": 32,
   "metadata": {},
   "outputs": [
    {
     "name": "stdout",
     "output_type": "stream",
     "text": [
      "\u001b[1mQuestion\u001b[0m Где протекает река Днепр\n",
      "\u001b[1mPrecise\u001b[0m украина\n",
      "\u001b[1mTop1\u001b[0m Основные реки Украины – Днепр, Южный Буг и Дунай, впадающие в Черное море.\n"
     ]
    }
   ],
   "source": [
    "qa('Где протекает река Днепр')"
   ]
  },
  {
   "cell_type": "code",
   "execution_count": 33,
   "metadata": {},
   "outputs": [
    {
     "name": "stdout",
     "output_type": "stream",
     "text": [
      "\u001b[1mQuestion\u001b[0m Кто присоединил Крым к России\n",
      "\u001b[1mPrecise\u001b[0m екатерина\n",
      "\u001b[1mTop1\u001b[0m Российская Федерация, как правопреемник СССР оставалась владельцем практически всей собственности советского государства, а также всех долгов СССР; в то же время некоторые российские политики требовали присоединения к России Донбасса и Крыма (последний был  передан Украине из состава РСФСР Н.С.Хрущевым в 1954 фактически самовольно на основании указа Президиума Верховного Совета СССР).\n"
     ]
    }
   ],
   "source": [
    "qa('Кто присоединил Крым к России')"
   ]
  },
  {
   "cell_type": "code",
   "execution_count": 34,
   "metadata": {},
   "outputs": [
    {
     "name": "stdout",
     "output_type": "stream",
     "text": [
      "\u001b[1mQuestion\u001b[0m Кто возглавлял белую армию?\n",
      "\u001b[1mPrecise\u001b[0m а и деникин\n",
      "\u001b[1mTop1\u001b[0m К концу лета 1918 белое движение, состоявшие из офицеров царской армии, юнкеров, казаков, представителей дворянства и руководимое адмиралом А.В.Колчаком в Западной Сибири, генералами А.И.Деникиным на юге и Н.Н.Юденичем на северо-западе (Прибалтика), оказалось поддержанным иностранной интервенцией.\n"
     ]
    }
   ],
   "source": [
    "qa('Кто возглавлял белую армию?')"
   ]
  },
  {
   "cell_type": "code",
   "execution_count": 35,
   "metadata": {},
   "outputs": [
    {
     "name": "stdout",
     "output_type": "stream",
     "text": [
      "\u001b[1mQuestion\u001b[0m В какой стране притекает река Ганг?\n",
      "\u001b[1mPrecise\u001b[0m бангладеш\n",
      "\u001b[1mTop1\u001b[0m На юге страны р.Кавери обладает многими удобными створами для строительства ГЭС.\n"
     ]
    }
   ],
   "source": [
    "qa('В какой стране притекает река Ганг?')"
   ]
  },
  {
   "cell_type": "code",
   "execution_count": 36,
   "metadata": {},
   "outputs": [
    {
     "name": "stdout",
     "output_type": "stream",
     "text": [
      "\u001b[1mQuestion\u001b[0m В каком городе находится музей Лувр?\n",
      "\u001b[1mPrecise\u001b[0m париж\n",
      "\u001b[1mTop1\u001b[0m Города стали центрами культурной и духовной жизни страны, здесь находились университеты, научно-исследовательские центры, медицинские колледжи при больницах, музеи и художественные галереи, оркестры и концертные залы, театры и издательства.\n"
     ]
    }
   ],
   "source": [
    "qa('В каком городе находится музей Лувр?')"
   ]
  },
  {
   "cell_type": "code",
   "execution_count": 37,
   "metadata": {},
   "outputs": [
    {
     "name": "stdout",
     "output_type": "stream",
     "text": [
      "\u001b[1mQuestion\u001b[0m В какую организацию входят РФ и Китай?\n",
      "\u001b[1mPrecise\u001b[0m оон\n",
      "\u001b[1mTop1\u001b[0m В созданную в 2001 Шанхайскую организацию сотрудничества вошли РФ, Китай, Казахстан, Киргизия, Таджикистан и Узбекистан.\n"
     ]
    }
   ],
   "source": [
    "qa('В какую организацию входят РФ и Китай?')"
   ]
  },
  {
   "cell_type": "code",
   "execution_count": 38,
   "metadata": {},
   "outputs": [
    {
     "name": "stdout",
     "output_type": "stream",
     "text": [
      "\u001b[1mQuestion\u001b[0m Какая религия преобладает в России\n",
      "\u001b[1mPrecise\u001b[0m христианство\n",
      "\u001b[1mTop1\u001b[0m Преобладающая часть религиозного населения РФ – православные, в том числе принадлежащие к сектам и группам православной направленности (старообрядцы, молокане).\n"
     ]
    }
   ],
   "source": [
    "qa('Какая религия преобладает в России')"
   ]
  },
  {
   "cell_type": "code",
   "execution_count": 39,
   "metadata": {},
   "outputs": [
    {
     "name": "stdout",
     "output_type": "stream",
     "text": [
      "\u001b[1mQuestion\u001b[0m Кто президент России?\n",
      "\u001b[1mPrecise\u001b[0m в путин\n",
      "\u001b[1mTop1\u001b[0m Президент России В.Путин подписал указ о признании республики Крым как независимого и суверенного государства и особого статуса города Севастополя в составе независимого Крыма.\n"
     ]
    }
   ],
   "source": [
    "qa('Кто президент России?')"
   ]
  },
  {
   "cell_type": "code",
   "execution_count": 40,
   "metadata": {},
   "outputs": [
    {
     "name": "stdout",
     "output_type": "stream",
     "text": [
      "\u001b[1mQuestion\u001b[0m Какая река самая длинная в Бразилии\n",
      "\u001b[1mPrecise\u001b[0m амазонка\n",
      "\u001b[1mTop1\u001b[0m По ресурсам водного стока Россия занимает 2-е место в мире после Бразилии с ее самой многоводной рекой Амазонкой.\n"
     ]
    }
   ],
   "source": [
    "qa('Какая река самая длинная в Бразилии')"
   ]
  },
  {
   "cell_type": "code",
   "execution_count": 41,
   "metadata": {},
   "outputs": [
    {
     "name": "stdout",
     "output_type": "stream",
     "text": [
      "\u001b[1mQuestion\u001b[0m Какой город самый крупный в Канаде?\n",
      "\u001b[1mPrecise\u001b[0m торонто\n",
      "\u001b[1mTop1\u001b[0m Во всех крупных городах Канады есть симфонические оркестры, самыми значительными считаются оркестры Торонто, Монреаля и Ванкувера.\n"
     ]
    }
   ],
   "source": [
    "qa('Какой город самый крупный в Канаде?')"
   ]
  },
  {
   "cell_type": "markdown",
   "metadata": {},
   "source": [
    "Ошибки возникают в основном в связи со следующей причиной: каждое слово в вопросе имеет одинаковый вес в поиске, но на некоторые слова нужно обращать особое внимание (название страны в вопросе про столицу, например), то есть выделять сущности следует также в запросе во время поиска. Пример с Москвой и Украиной выше это показывает."
   ]
  },
  {
   "cell_type": "markdown",
   "metadata": {
    "collapsed": true
   },
   "source": [
    "### Оценка качества"
   ]
  },
  {
   "cell_type": "markdown",
   "metadata": {},
   "source": [
    "Мы тестировали систему на данных из соревнования Сбербанка http://contest.sdsj.ru Данные представляют собой размеченные фрагменты текста с вопросом и ответом. Мы протестировали систему на 100 образцах, вычисляли число верно найденных предложений и верных ответов, но только для вопросов, которые умеем распознавать."
   ]
  },
  {
   "cell_type": "code",
   "execution_count": 13,
   "metadata": {
    "collapsed": true
   },
   "outputs": [],
   "source": [
    "def is_answer(answer, label):\n",
    "    if answer:\n",
    "        parsed_label = ' '.join([w['analysis'][0]['lex'] for w in ms.analyze(label)\\\n",
    "                                 if 'analysis' in w and len(w['analysis'])])\n",
    "        return answer in parsed_label\n",
    "    return False"
   ]
  },
  {
   "cell_type": "markdown",
   "metadata": {},
   "source": [
    "Загрузка данных:"
   ]
  },
  {
   "cell_type": "code",
   "execution_count": 15,
   "metadata": {},
   "outputs": [
    {
     "data": {
      "text/plain": [
       "(50364, 5)"
      ]
     },
     "execution_count": 15,
     "metadata": {},
     "output_type": "execute_result"
    }
   ],
   "source": [
    "test = pd.read_csv('train_task_b.csv')\n",
    "test.shape"
   ]
  },
  {
   "cell_type": "code",
   "execution_count": 16,
   "metadata": {},
   "outputs": [
    {
     "data": {
      "text/html": [
       "<div>\n",
       "<table border=\"1\" class=\"dataframe\">\n",
       "  <thead>\n",
       "    <tr style=\"text-align: right;\">\n",
       "      <th></th>\n",
       "      <th>paragraph_id</th>\n",
       "      <th>question_id</th>\n",
       "      <th>paragraph</th>\n",
       "      <th>question</th>\n",
       "      <th>answer</th>\n",
       "    </tr>\n",
       "  </thead>\n",
       "  <tbody>\n",
       "    <tr>\n",
       "      <th>0</th>\n",
       "      <td>14754</td>\n",
       "      <td>60544</td>\n",
       "      <td>Первые упоминания о строении человеческого тела встречаются в Древнем Египте. В XXVII веке до н. э. египетский врач Имхотеп описал некоторые органы и их функции, в частности головной мозг, деятельность сердца, распространение крови по сосудам. В древнекитайской книге Нейцзин (XI—VII вв. до н. э.) упоминаются сердце, печень, лёгкие и другие органы тела человека. В индийской книге Аюрведа ( Знание жизни , IX-III вв. до н. э.) содержится большой объём анатомических данных о мышцах, нервах, типах телосложения и темперамента, головном и спинном мозге.</td>\n",
       "      <td>Где встречаются первые упоминания о строении человеческого тела?</td>\n",
       "      <td>в Древнем Египте</td>\n",
       "    </tr>\n",
       "  </tbody>\n",
       "</table>\n",
       "</div>"
      ],
      "text/plain": [
       "   paragraph_id  question_id  \\\n",
       "0         14754        60544   \n",
       "\n",
       "                                                                                                                                                                                                                                                                                                                                                                                                                                                                                                                                                                  paragraph  \\\n",
       "0  Первые упоминания о строении человеческого тела встречаются в Древнем Египте. В XXVII веке до н. э. египетский врач Имхотеп описал некоторые органы и их функции, в частности головной мозг, деятельность сердца, распространение крови по сосудам. В древнекитайской книге Нейцзин (XI—VII вв. до н. э.) упоминаются сердце, печень, лёгкие и другие органы тела человека. В индийской книге Аюрведа ( Знание жизни , IX-III вв. до н. э.) содержится большой объём анатомических данных о мышцах, нервах, типах телосложения и темперамента, головном и спинном мозге.   \n",
       "\n",
       "                                                           question  \\\n",
       "0  Где встречаются первые упоминания о строении человеческого тела?   \n",
       "\n",
       "             answer  \n",
       "0  в Древнем Египте  "
      ]
     },
     "execution_count": 16,
     "metadata": {},
     "output_type": "execute_result"
    }
   ],
   "source": [
    "test.head(1)"
   ]
  },
  {
   "cell_type": "code",
   "execution_count": 17,
   "metadata": {
    "collapsed": true
   },
   "outputs": [],
   "source": [
    "test_idx = []\n",
    "for idx in test.index:\n",
    "    if get_q_type(test.loc[idx, 'question']):\n",
    "        test_idx.append(idx)"
   ]
  },
  {
   "cell_type": "code",
   "execution_count": 18,
   "metadata": {
    "collapsed": true
   },
   "outputs": [],
   "source": [
    "test_df = test.loc[test_idx]"
   ]
  },
  {
   "cell_type": "code",
   "execution_count": 19,
   "metadata": {},
   "outputs": [
    {
     "data": {
      "text/plain": [
       "(7748, 5)"
      ]
     },
     "execution_count": 19,
     "metadata": {},
     "output_type": "execute_result"
    }
   ],
   "source": [
    "test_df.shape"
   ]
  },
  {
   "cell_type": "markdown",
   "metadata": {},
   "source": [
    "Запускаем тестирование"
   ]
  },
  {
   "cell_type": "code",
   "execution_count": 20,
   "metadata": {
    "collapsed": true
   },
   "outputs": [],
   "source": [
    "searcher = QA_word2vec(' '.join(test_df['paragraph']))"
   ]
  },
  {
   "cell_type": "code",
   "execution_count": 43,
   "metadata": {
    "collapsed": true
   },
   "outputs": [],
   "source": [
    "searcher.ms = Mystem()"
   ]
  },
  {
   "cell_type": "code",
   "execution_count": 21,
   "metadata": {},
   "outputs": [
    {
     "name": "stdout",
     "output_type": "stream",
     "text": [
      "(0, 1, 1, 0) (10, 9, 3, 6) (20, 17, 5, 10) (30, 23, 7, 13) (40, 23, 7, 13) (50, 30, 12, 15) (60, 39, 17, 19) (70, 46, 21, 21) (80, 54, 26, 24) (90, 64, 30, 28) (100, 72, 33, 32)"
     ]
    }
   ],
   "source": [
    "acc_sent = 0\n",
    "acc_answers = 0\n",
    "cnt_none = 0\n",
    "for i, idx in enumerate(test_df.index):\n",
    "    try:\n",
    "        q = test_df.loc[idx, 'question']\n",
    "        entfilt = get_q_type(q)\n",
    "        answer, top1 = extract_answer(q, entfilt, 1)\n",
    "        \n",
    "        if top1 in test_df.loc[idx, 'paragraph']:\n",
    "            acc_sent += 1\n",
    "        if answer:\n",
    "            if is_answer(answer, test_df.loc[idx, 'answer']):\n",
    "                acc_answers += 1\n",
    "        else:\n",
    "            cnt_none += 1\n",
    "    except:\n",
    "        pass\n",
    "        \n",
    "    if i % 10 == 0:\n",
    "        print((i, acc_sent, acc_answers, cnt_none), end=' ')"
   ]
  },
  {
   "cell_type": "markdown",
   "metadata": {
    "collapsed": true
   },
   "source": [
    "Из 100 объектов тестовой выборки в 72 система правильно нашла предложение с ответом, в 33 случаях правильно был найден сам ответ."
   ]
  },
  {
   "cell_type": "markdown",
   "metadata": {
    "collapsed": true
   },
   "source": [
    "В 32 случаях система не смогла вернуть хоть какую-либо сущность (вернула None), это указывает на ошибки в распознавании типа ответа (он очевидно очень ограничен), либо на ошибки модуля поиска сущностей.\n",
    "\n",
    "Значит, что в 48% случаев из тех, когда сущности находились, был получен правильный ответ, что неплохо. Наша модель не учитывает тонких синтаксических зависимостей и контекст, а просто подсчитывает количество найденных сущностей с учетом релевантности предложения."
   ]
  }
 ],
 "metadata": {
  "kernelspec": {
   "display_name": "Python 3",
   "language": "python",
   "name": "python3"
  },
  "language_info": {
   "codemirror_mode": {
    "name": "ipython",
    "version": 3
   },
   "file_extension": ".py",
   "mimetype": "text/x-python",
   "name": "python",
   "nbconvert_exporter": "python",
   "pygments_lexer": "ipython3",
   "version": "3.5.2"
  }
 },
 "nbformat": 4,
 "nbformat_minor": 2
}
